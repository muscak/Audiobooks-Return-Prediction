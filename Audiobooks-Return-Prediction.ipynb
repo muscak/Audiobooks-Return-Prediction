{
 "cells": [
  {
   "cell_type": "markdown",
   "metadata": {
    "id": "4pju24rS3OwY"
   },
   "source": [
    "# Audiobooks Customer Return Prediction\n",
    "\n",
    "We are going to take the following approach:\n",
    "\n",
    "1. Problem definition\n",
    "2. Data\n",
    "3. Evaluation\n",
    "4. Modelling using Deep Neural Network "
   ]
  },
  {
   "cell_type": "markdown",
   "metadata": {
    "id": "epKwUEry3rNb"
   },
   "source": [
    "## Problem Defition\n",
    "\n",
    "This notebook is to practice the business case study explored in the *The Data Science Course 2023: Complete Data Science Bootcamp* on [Udemy](https://www.udemy.com/course/the-data-science-course-complete-data-science-bootcamp/). We'll use `pandas` to wrangle and `under_sampling` to balance the data instead of manual operations explained in the course.\n",
    "\n",
    "You are given data from an audiobook app. Logically, it relates to the audio version of books only. Each customer in the database has made a purchase at least once. We want to create a machine learning algorithm based on our data that can predict if a customer will buy again from the audiobook company."
   ]
  },
  {
   "cell_type": "markdown",
   "metadata": {
    "id": "9njjLv-I3tU1"
   },
   "source": [
    "## Data\n",
    "\n",
    "The sample dataset is taken from the *Section 51: Deep Learning - Business Case Example* of *The Data Science Course 2023: Complete Data Science Bootcamp* on [Udemy](https://www.udemy.com/course/the-data-science-course-complete-data-science-bootcamp/). The dataset has 12 columns features to be used predicting the label which is Target columns in the dataset. You can see the data dictionary [here](Data/README.md)."
   ]
  },
  {
   "cell_type": "markdown",
   "metadata": {
    "id": "qYbR6y4m3wA-"
   },
   "source": [
    "## Evaluation\n",
    "\n",
    "> If we can reach more than 90% accuracy at predicting whether or not a customer is going to come back and purchase new audiobook, we'll pursue the project.\n",
    "\n",
    "<div class='alert alert-info' style='border-radius:10px;background-color:white;'>\n",
    "⚠️ Note: Due to the nature of experimentation, the evaluation metric may change over time.\n",
    "</div>"
   ]
  },
  {
   "cell_type": "markdown",
   "metadata": {
    "id": "ufX4qRUC3yOn"
   },
   "source": [
    "## Import Libraries\n",
    "\n",
    "We're going to use:\n",
    "- [pandas](https://pandas.pydata.org/) for data analysis.\n",
    "- [NumPy](https://numpy.org/) for numerical operations.\n",
    "- [Matplotlib](https://matplotlib.org/) / [seaborn](https://seaborn.pydata.org/) for plotting or data visualization.\n",
    "- [Scikit-Learn](https://scikit-learn.org/stable/) for machine learning modelling and evaluation."
   ]
  },
  {
   "cell_type": "code",
   "execution_count": 4,
   "metadata": {
    "executionInfo": {
     "elapsed": 660,
     "status": "ok",
     "timestamp": 1684249324480,
     "user": {
      "displayName": "Mustafa ÇAKIR",
      "userId": "13345358209899768546"
     },
     "user_tz": -120
    },
    "id": "Fn_jXZu03KAv"
   },
   "outputs": [],
   "source": [
    "# Regular EDA (exploratory data analysis) and plotting libraries\n",
    "import numpy as np\n",
    "import pandas as pd\n",
    "import matplotlib.pyplot as plt\n",
    "%matplotlib inline\n",
    "import networkx as nx\n",
    "import seaborn as sb\n",
    "sb.set(style=\"ticks\")\n",
    "\n",
    "# Preprocessing the data\n",
    "from imblearn.under_sampling import RandomUnderSampler\n",
    "from sklearn.model_selection import train_test_split\n",
    "\n",
    "# DNN Related Keras Libraries\n",
    "from tensorflow.keras.models import Sequential\n",
    "from tensorflow.keras.layers import Dense\n",
    "from tensorflow.keras.callbacks import EarlyStopping\n",
    "from keras.utils import plot_model\n",
    "\n"
   ]
  },
  {
   "cell_type": "markdown",
   "metadata": {
    "id": "SN_GTgJr4PXo"
   },
   "source": [
    "## Load Data"
   ]
  },
  {
   "cell_type": "code",
   "execution_count": 2,
   "metadata": {
    "colab": {
     "base_uri": "https://localhost:8080/"
    },
    "executionInfo": {
     "elapsed": 258,
     "status": "ok",
     "timestamp": 1684247050415,
     "user": {
      "displayName": "Mustafa ÇAKIR",
      "userId": "13345358209899768546"
     },
     "user_tz": -120
    },
    "id": "zNxzGT3Q4R-c",
    "outputId": "e472c596-8aed-4691-a7c4-ee1be1af6110"
   },
   "outputs": [
    {
     "data": {
      "text/plain": [
       "(14084, 12)"
      ]
     },
     "execution_count": 2,
     "metadata": {},
     "output_type": "execute_result"
    }
   ],
   "source": [
    "columns = ['ID', 'Book length (mins)_overall', 'Book length (mins)_avg', \n",
    "           'Price_overall', 'Price_avg', 'Review', 'Review 10/10', \n",
    "           'Minutes listened', 'Completion', 'Support Requests',\n",
    "           'Last visited minus Purchase date', 'Targets']\n",
    "df = pd.read_csv('Data/Audiobooks_data.csv', header=None)\n",
    "df.columns = columns\n",
    "df.shape"
   ]
  },
  {
   "cell_type": "markdown",
   "metadata": {
    "id": "W8bUytss4w3O"
   },
   "source": [
    "## Data Exploration (Exploratory Data Analysis - EDA)\n",
    "\n",
    "The goal here is to find out more about the data and become a subject matter export on the dataset you're working with.\n",
    "\n",
    "1. What question(s) are you trying to solve?\n",
    "2. What kind of data do we have and how do we treat different types?\n",
    "3. What's missing from the data and how do you deal with it?\n",
    "4. Where are the outliers and why should you care about them?\n",
    "5. How can you add, change or remove features to get more out of your data?"
   ]
  },
  {
   "cell_type": "code",
   "execution_count": 3,
   "metadata": {
    "colab": {
     "base_uri": "https://localhost:8080/",
     "height": 206
    },
    "executionInfo": {
     "elapsed": 223,
     "status": "ok",
     "timestamp": 1684247055470,
     "user": {
      "displayName": "Mustafa ÇAKIR",
      "userId": "13345358209899768546"
     },
     "user_tz": -120
    },
    "id": "ur2ff5F74rh3",
    "outputId": "713eb193-d10a-416b-f624-881765d4d8d4"
   },
   "outputs": [
    {
     "data": {
      "text/html": [
       "<div>\n",
       "<style scoped>\n",
       "    .dataframe tbody tr th:only-of-type {\n",
       "        vertical-align: middle;\n",
       "    }\n",
       "\n",
       "    .dataframe tbody tr th {\n",
       "        vertical-align: top;\n",
       "    }\n",
       "\n",
       "    .dataframe thead th {\n",
       "        text-align: right;\n",
       "    }\n",
       "</style>\n",
       "<table border=\"1\" class=\"dataframe\">\n",
       "  <thead>\n",
       "    <tr style=\"text-align: right;\">\n",
       "      <th></th>\n",
       "      <th>ID</th>\n",
       "      <th>Book length (mins)_overall</th>\n",
       "      <th>Book length (mins)_avg</th>\n",
       "      <th>Price_overall</th>\n",
       "      <th>Price_avg</th>\n",
       "      <th>Review</th>\n",
       "      <th>Review 10/10</th>\n",
       "      <th>Minutes listened</th>\n",
       "      <th>Completion</th>\n",
       "      <th>Support Requests</th>\n",
       "      <th>Last visited minus Purchase date</th>\n",
       "      <th>Targets</th>\n",
       "    </tr>\n",
       "  </thead>\n",
       "  <tbody>\n",
       "    <tr>\n",
       "      <th>0</th>\n",
       "      <td>994</td>\n",
       "      <td>1620.0</td>\n",
       "      <td>1620</td>\n",
       "      <td>19.73</td>\n",
       "      <td>19.73</td>\n",
       "      <td>1</td>\n",
       "      <td>10.00</td>\n",
       "      <td>0.99</td>\n",
       "      <td>1603.8</td>\n",
       "      <td>5</td>\n",
       "      <td>92</td>\n",
       "      <td>0</td>\n",
       "    </tr>\n",
       "    <tr>\n",
       "      <th>1</th>\n",
       "      <td>1143</td>\n",
       "      <td>2160.0</td>\n",
       "      <td>2160</td>\n",
       "      <td>5.33</td>\n",
       "      <td>5.33</td>\n",
       "      <td>0</td>\n",
       "      <td>8.91</td>\n",
       "      <td>0.00</td>\n",
       "      <td>0.0</td>\n",
       "      <td>0</td>\n",
       "      <td>0</td>\n",
       "      <td>0</td>\n",
       "    </tr>\n",
       "    <tr>\n",
       "      <th>2</th>\n",
       "      <td>2059</td>\n",
       "      <td>2160.0</td>\n",
       "      <td>2160</td>\n",
       "      <td>5.33</td>\n",
       "      <td>5.33</td>\n",
       "      <td>0</td>\n",
       "      <td>8.91</td>\n",
       "      <td>0.00</td>\n",
       "      <td>0.0</td>\n",
       "      <td>0</td>\n",
       "      <td>388</td>\n",
       "      <td>0</td>\n",
       "    </tr>\n",
       "    <tr>\n",
       "      <th>3</th>\n",
       "      <td>2882</td>\n",
       "      <td>1620.0</td>\n",
       "      <td>1620</td>\n",
       "      <td>5.96</td>\n",
       "      <td>5.96</td>\n",
       "      <td>0</td>\n",
       "      <td>8.91</td>\n",
       "      <td>0.42</td>\n",
       "      <td>680.4</td>\n",
       "      <td>1</td>\n",
       "      <td>129</td>\n",
       "      <td>0</td>\n",
       "    </tr>\n",
       "    <tr>\n",
       "      <th>4</th>\n",
       "      <td>3342</td>\n",
       "      <td>2160.0</td>\n",
       "      <td>2160</td>\n",
       "      <td>5.33</td>\n",
       "      <td>5.33</td>\n",
       "      <td>0</td>\n",
       "      <td>8.91</td>\n",
       "      <td>0.22</td>\n",
       "      <td>475.2</td>\n",
       "      <td>0</td>\n",
       "      <td>361</td>\n",
       "      <td>0</td>\n",
       "    </tr>\n",
       "  </tbody>\n",
       "</table>\n",
       "</div>"
      ],
      "text/plain": [
       "     ID  Book length (mins)_overall  Book length (mins)_avg  Price_overall  \\\n",
       "0   994                      1620.0                    1620          19.73   \n",
       "1  1143                      2160.0                    2160           5.33   \n",
       "2  2059                      2160.0                    2160           5.33   \n",
       "3  2882                      1620.0                    1620           5.96   \n",
       "4  3342                      2160.0                    2160           5.33   \n",
       "\n",
       "   Price_avg  Review  Review 10/10  Minutes listened  Completion  \\\n",
       "0      19.73       1         10.00              0.99      1603.8   \n",
       "1       5.33       0          8.91              0.00         0.0   \n",
       "2       5.33       0          8.91              0.00         0.0   \n",
       "3       5.96       0          8.91              0.42       680.4   \n",
       "4       5.33       0          8.91              0.22       475.2   \n",
       "\n",
       "   Support Requests  Last visited minus Purchase date  Targets  \n",
       "0                 5                                92        0  \n",
       "1                 0                                 0        0  \n",
       "2                 0                               388        0  \n",
       "3                 1                               129        0  \n",
       "4                 0                               361        0  "
      ]
     },
     "execution_count": 3,
     "metadata": {},
     "output_type": "execute_result"
    }
   ],
   "source": [
    "df.head()"
   ]
  },
  {
   "cell_type": "code",
   "execution_count": 4,
   "metadata": {
    "colab": {
     "base_uri": "https://localhost:8080/",
     "height": 206
    },
    "executionInfo": {
     "elapsed": 5,
     "status": "ok",
     "timestamp": 1684247064057,
     "user": {
      "displayName": "Mustafa ÇAKIR",
      "userId": "13345358209899768546"
     },
     "user_tz": -120
    },
    "id": "P2a7gtzA7IJQ",
    "outputId": "0ea34963-77f4-4646-bc38-c1d3b7c81546"
   },
   "outputs": [
    {
     "data": {
      "text/html": [
       "<div>\n",
       "<style scoped>\n",
       "    .dataframe tbody tr th:only-of-type {\n",
       "        vertical-align: middle;\n",
       "    }\n",
       "\n",
       "    .dataframe tbody tr th {\n",
       "        vertical-align: top;\n",
       "    }\n",
       "\n",
       "    .dataframe thead th {\n",
       "        text-align: right;\n",
       "    }\n",
       "</style>\n",
       "<table border=\"1\" class=\"dataframe\">\n",
       "  <thead>\n",
       "    <tr style=\"text-align: right;\">\n",
       "      <th></th>\n",
       "      <th>ID</th>\n",
       "      <th>Book length (mins)_overall</th>\n",
       "      <th>Book length (mins)_avg</th>\n",
       "      <th>Price_overall</th>\n",
       "      <th>Price_avg</th>\n",
       "      <th>Review</th>\n",
       "      <th>Review 10/10</th>\n",
       "      <th>Minutes listened</th>\n",
       "      <th>Completion</th>\n",
       "      <th>Support Requests</th>\n",
       "      <th>Last visited minus Purchase date</th>\n",
       "      <th>Targets</th>\n",
       "    </tr>\n",
       "  </thead>\n",
       "  <tbody>\n",
       "    <tr>\n",
       "      <th>14079</th>\n",
       "      <td>28220</td>\n",
       "      <td>1620.0</td>\n",
       "      <td>1620</td>\n",
       "      <td>5.33</td>\n",
       "      <td>5.33</td>\n",
       "      <td>1</td>\n",
       "      <td>9.00</td>\n",
       "      <td>0.61</td>\n",
       "      <td>988.2</td>\n",
       "      <td>0</td>\n",
       "      <td>4</td>\n",
       "      <td>0</td>\n",
       "    </tr>\n",
       "    <tr>\n",
       "      <th>14080</th>\n",
       "      <td>28671</td>\n",
       "      <td>1080.0</td>\n",
       "      <td>1080</td>\n",
       "      <td>6.55</td>\n",
       "      <td>6.55</td>\n",
       "      <td>1</td>\n",
       "      <td>6.00</td>\n",
       "      <td>0.29</td>\n",
       "      <td>313.2</td>\n",
       "      <td>0</td>\n",
       "      <td>29</td>\n",
       "      <td>0</td>\n",
       "    </tr>\n",
       "    <tr>\n",
       "      <th>14081</th>\n",
       "      <td>31134</td>\n",
       "      <td>2160.0</td>\n",
       "      <td>2160</td>\n",
       "      <td>6.14</td>\n",
       "      <td>6.14</td>\n",
       "      <td>0</td>\n",
       "      <td>8.91</td>\n",
       "      <td>0.00</td>\n",
       "      <td>0.0</td>\n",
       "      <td>0</td>\n",
       "      <td>0</td>\n",
       "      <td>0</td>\n",
       "    </tr>\n",
       "    <tr>\n",
       "      <th>14082</th>\n",
       "      <td>32832</td>\n",
       "      <td>1620.0</td>\n",
       "      <td>1620</td>\n",
       "      <td>5.33</td>\n",
       "      <td>5.33</td>\n",
       "      <td>1</td>\n",
       "      <td>8.00</td>\n",
       "      <td>0.38</td>\n",
       "      <td>615.6</td>\n",
       "      <td>0</td>\n",
       "      <td>90</td>\n",
       "      <td>0</td>\n",
       "    </tr>\n",
       "    <tr>\n",
       "      <th>14083</th>\n",
       "      <td>251</td>\n",
       "      <td>1674.0</td>\n",
       "      <td>3348</td>\n",
       "      <td>5.33</td>\n",
       "      <td>10.67</td>\n",
       "      <td>0</td>\n",
       "      <td>8.91</td>\n",
       "      <td>0.00</td>\n",
       "      <td>0.0</td>\n",
       "      <td>0</td>\n",
       "      <td>0</td>\n",
       "      <td>1</td>\n",
       "    </tr>\n",
       "  </tbody>\n",
       "</table>\n",
       "</div>"
      ],
      "text/plain": [
       "          ID  Book length (mins)_overall  Book length (mins)_avg  \\\n",
       "14079  28220                      1620.0                    1620   \n",
       "14080  28671                      1080.0                    1080   \n",
       "14081  31134                      2160.0                    2160   \n",
       "14082  32832                      1620.0                    1620   \n",
       "14083    251                      1674.0                    3348   \n",
       "\n",
       "       Price_overall  Price_avg  Review  Review 10/10  Minutes listened  \\\n",
       "14079           5.33       5.33       1          9.00              0.61   \n",
       "14080           6.55       6.55       1          6.00              0.29   \n",
       "14081           6.14       6.14       0          8.91              0.00   \n",
       "14082           5.33       5.33       1          8.00              0.38   \n",
       "14083           5.33      10.67       0          8.91              0.00   \n",
       "\n",
       "       Completion  Support Requests  Last visited minus Purchase date  Targets  \n",
       "14079       988.2                 0                                 4        0  \n",
       "14080       313.2                 0                                29        0  \n",
       "14081         0.0                 0                                 0        0  \n",
       "14082       615.6                 0                                90        0  \n",
       "14083         0.0                 0                                 0        1  "
      ]
     },
     "execution_count": 4,
     "metadata": {},
     "output_type": "execute_result"
    }
   ],
   "source": [
    "df.tail()"
   ]
  },
  {
   "cell_type": "code",
   "execution_count": 5,
   "metadata": {
    "colab": {
     "base_uri": "https://localhost:8080/"
    },
    "executionInfo": {
     "elapsed": 3,
     "status": "ok",
     "timestamp": 1684247072994,
     "user": {
      "displayName": "Mustafa ÇAKIR",
      "userId": "13345358209899768546"
     },
     "user_tz": -120
    },
    "id": "8ybiNBKT8qu7",
    "outputId": "80d1e2aa-c4d7-46cb-8de1-89dc601e105a"
   },
   "outputs": [
    {
     "name": "stdout",
     "output_type": "stream",
     "text": [
      "<class 'pandas.core.frame.DataFrame'>\n",
      "RangeIndex: 14084 entries, 0 to 14083\n",
      "Data columns (total 12 columns):\n",
      " #   Column                            Non-Null Count  Dtype  \n",
      "---  ------                            --------------  -----  \n",
      " 0   ID                                14084 non-null  int64  \n",
      " 1   Book length (mins)_overall        14084 non-null  float64\n",
      " 2   Book length (mins)_avg            14084 non-null  int64  \n",
      " 3   Price_overall                     14084 non-null  float64\n",
      " 4   Price_avg                         14084 non-null  float64\n",
      " 5   Review                            14084 non-null  int64  \n",
      " 6   Review 10/10                      14084 non-null  float64\n",
      " 7   Minutes listened                  14084 non-null  float64\n",
      " 8   Completion                        14084 non-null  float64\n",
      " 9   Support Requests                  14084 non-null  int64  \n",
      " 10  Last visited minus Purchase date  14084 non-null  int64  \n",
      " 11  Targets                           14084 non-null  int64  \n",
      "dtypes: float64(6), int64(6)\n",
      "memory usage: 1.3 MB\n"
     ]
    }
   ],
   "source": [
    "df.info()"
   ]
  },
  {
   "cell_type": "markdown",
   "metadata": {
    "id": "cUkvGpcuAnn8"
   },
   "source": [
    "✍🏼 No Null values"
   ]
  },
  {
   "cell_type": "markdown",
   "metadata": {},
   "source": [
    "### Distribution of Targets"
   ]
  },
  {
   "cell_type": "code",
   "execution_count": 6,
   "metadata": {
    "colab": {
     "base_uri": "https://localhost:8080/"
    },
    "executionInfo": {
     "elapsed": 5,
     "status": "ok",
     "timestamp": 1684247896410,
     "user": {
      "displayName": "Mustafa ÇAKIR",
      "userId": "13345358209899768546"
     },
     "user_tz": -120
    },
    "id": "1O0sTkRw8s6j",
    "outputId": "5ab86630-1c56-45ef-d277-3af6c1e13a4b"
   },
   "outputs": [
    {
     "data": {
      "text/plain": [
       "0    11847\n",
       "1     2237\n",
       "Name: Targets, dtype: int64"
      ]
     },
     "execution_count": 6,
     "metadata": {},
     "output_type": "execute_result"
    }
   ],
   "source": [
    "df['Targets'].value_counts()"
   ]
  },
  {
   "cell_type": "code",
   "execution_count": 7,
   "metadata": {
    "colab": {
     "base_uri": "https://localhost:8080/",
     "height": 452
    },
    "executionInfo": {
     "elapsed": 796,
     "status": "ok",
     "timestamp": 1684248062630,
     "user": {
      "displayName": "Mustafa ÇAKIR",
      "userId": "13345358209899768546"
     },
     "user_tz": -120
    },
    "id": "Nuc7nNhw_1-7",
    "outputId": "8e3d29aa-90fb-404d-92a3-20ad5d3d363e"
   },
   "outputs": [
    {
     "data": {
      "image/png": "[encoded data removed]",
      "text/plain": [
       "<Figure size 640x480 with 1 Axes>"
      ]
     },
     "metadata": {},
     "output_type": "display_data"
    }
   ],
   "source": [
    "df['Targets'].value_counts().plot(kind='bar', color=['salmon', 'lightblue'])\n",
    "plt.xlabel('Targets')\n",
    "plt.ylabel('Counts')\n",
    "plt.show()"
   ]
  },
  {
   "cell_type": "markdown",
   "metadata": {
    "id": "7TGWfNFOE2iY"
   },
   "source": [
    "✍🏼 Needs balancing"
   ]
  },
  {
   "cell_type": "markdown",
   "metadata": {},
   "source": [
    "### Distribution of Price_overall"
   ]
  },
  {
   "cell_type": "code",
   "execution_count": 13,
   "metadata": {},
   "outputs": [
    {
     "data": {
      "image/png": "[encoded data removed]",
      "text/plain": [
       "<Figure size 640x480 with 2 Axes>"
      ]
     },
     "metadata": {},
     "output_type": "display_data"
    }
   ],
   "source": [
    "f, (ax_box, ax_hist) = plt.subplots(2, sharex=False, gridspec_kw={'height_ratios':(0.15, 0.85)})\n",
    "\n",
    "sb.boxplot(data=df, x='Price_overall', color='lightblue', ax=ax_box)\n",
    "sb.histplot(data=df, x='Price_overall', hue='Targets', kde=True, ax=ax_hist)\n",
    "ax_box.set(xlabel='')\n",
    "plt.show()"
   ]
  },
  {
   "cell_type": "markdown",
   "metadata": {},
   "source": [
    "### Distribution of Completion"
   ]
  },
  {
   "cell_type": "code",
   "execution_count": 20,
   "metadata": {},
   "outputs": [
    {
     "data": {
      "image/png": "[encoded data removed]",
      "text/plain": [
       "<Figure size 640x480 with 2 Axes>"
      ]
     },
     "metadata": {},
     "output_type": "display_data"
    }
   ],
   "source": [
    "f, (ax_box, ax_hist) = plt.subplots(2, sharex=False, gridspec_kw={'height_ratios':(0.15, 0.85)})\n",
    "\n",
    "sb.boxplot(data=df, x='Completion', color='lightblue', ax=ax_box)\n",
    "sb.histplot(data=df, x='Completion', hue='Targets', kde=True, ax=ax_hist)\n",
    "plt.show()"
   ]
  },
  {
   "cell_type": "markdown",
   "metadata": {},
   "source": [
    "### Distribution of Review"
   ]
  },
  {
   "cell_type": "code",
   "execution_count": 18,
   "metadata": {},
   "outputs": [
    {
     "data": {
      "text/plain": [
       "<AxesSubplot: xlabel='Review', ylabel='count'>"
      ]
     },
     "execution_count": 18,
     "metadata": {},
     "output_type": "execute_result"
    },
    {
     "data": {
      "image/png": "[encoded data removed]",
      "text/plain": [
       "<Figure size 640x480 with 1 Axes>"
      ]
     },
     "metadata": {},
     "output_type": "display_data"
    }
   ],
   "source": [
    "sb.countplot(data=df, x='Review', hue='Targets', palette=['salmon', 'lightblue'])"
   ]
  },
  {
   "cell_type": "code",
   "execution_count": null,
   "metadata": {},
   "outputs": [],
   "source": []
  },
  {
   "cell_type": "markdown",
   "metadata": {
    "id": "7oUm4g3aFYxs"
   },
   "source": [
    "## Data Preprocessing"
   ]
  },
  {
   "cell_type": "markdown",
   "metadata": {
    "id": "Fn9zEP9TGF9R"
   },
   "source": [
    "### Drop the columns that we'll not use"
   ]
  },
  {
   "cell_type": "code",
   "execution_count": 8,
   "metadata": {
    "colab": {
     "base_uri": "https://localhost:8080/"
    },
    "executionInfo": {
     "elapsed": 6,
     "status": "ok",
     "timestamp": 1684249582959,
     "user": {
      "displayName": "Mustafa ÇAKIR",
      "userId": "13345358209899768546"
     },
     "user_tz": -120
    },
    "id": "aO2lVRePGLqg",
    "outputId": "85b3ec30-c832-4d76-a5f7-d031db9a6cc4"
   },
   "outputs": [
    {
     "name": "stdout",
     "output_type": "stream",
     "text": [
      "<class 'pandas.core.frame.DataFrame'>\n",
      "RangeIndex: 14084 entries, 0 to 14083\n",
      "Data columns (total 11 columns):\n",
      " #   Column                            Non-Null Count  Dtype  \n",
      "---  ------                            --------------  -----  \n",
      " 0   Book length (mins)_overall        14084 non-null  float64\n",
      " 1   Book length (mins)_avg            14084 non-null  int64  \n",
      " 2   Price_overall                     14084 non-null  float64\n",
      " 3   Price_avg                         14084 non-null  float64\n",
      " 4   Review                            14084 non-null  int64  \n",
      " 5   Review 10/10                      14084 non-null  float64\n",
      " 6   Minutes listened                  14084 non-null  float64\n",
      " 7   Completion                        14084 non-null  float64\n",
      " 8   Support Requests                  14084 non-null  int64  \n",
      " 9   Last visited minus Purchase date  14084 non-null  int64  \n",
      " 10  Targets                           14084 non-null  int64  \n",
      "dtypes: float64(6), int64(5)\n",
      "memory usage: 1.2 MB\n"
     ]
    }
   ],
   "source": [
    "df.drop(['ID'], axis=1, inplace=True)\n",
    "df.info()"
   ]
  },
  {
   "cell_type": "markdown",
   "metadata": {
    "id": "yAyNwM1lGV8G"
   },
   "source": [
    "### Determine the Features and Targets"
   ]
  },
  {
   "cell_type": "code",
   "execution_count": 9,
   "metadata": {
    "executionInfo": {
     "elapsed": 398,
     "status": "ok",
     "timestamp": 1684249642191,
     "user": {
      "displayName": "Mustafa ÇAKIR",
      "userId": "13345358209899768546"
     },
     "user_tz": -120
    },
    "id": "BvYMxDlyGVgQ"
   },
   "outputs": [],
   "source": [
    "x = df.drop('Targets', axis=1)\n",
    "y = df['Targets']"
   ]
  },
  {
   "cell_type": "markdown",
   "metadata": {
    "id": "crbOK184Fh8o"
   },
   "source": [
    "### Balancing the Dataset\n",
    "\n",
    "We'll use `RandomUnderSampler` from `imblearn` library. We'll set `random_state` parameter to `101` for reproducing purpose. Also, `sampling_strategy` will be set to `majority` which will undersample the majority class determined by the class with the largest number of examples."
   ]
  },
  {
   "cell_type": "code",
   "execution_count": 10,
   "metadata": {
    "colab": {
     "base_uri": "https://localhost:8080/",
     "height": 481
    },
    "executionInfo": {
     "elapsed": 566,
     "status": "ok",
     "timestamp": 1684249797792,
     "user": {
      "displayName": "Mustafa ÇAKIR",
      "userId": "13345358209899768546"
     },
     "user_tz": -120
    },
    "id": "6_nKlBsSAHXX",
    "outputId": "1894072c-e949-40cc-e2e8-3ce9dcf8057c"
   },
   "outputs": [
    {
     "name": "stdout",
     "output_type": "stream",
     "text": [
      "0    2237\n",
      "1    2237\n",
      "Name: Targets, dtype: int64\n"
     ]
    },
    {
     "data": {
      "image/png": "[encoded data removed]",
      "text/plain": [
       "<Figure size 640x480 with 1 Axes>"
      ]
     },
     "metadata": {},
     "output_type": "display_data"
    }
   ],
   "source": [
    "undersample = RandomUnderSampler(sampling_strategy='majority', random_state=101)\n",
    "\n",
    "x_under, y_under = undersample.fit_resample(x, y)\n",
    "\n",
    "print(y_under.value_counts())\n",
    "\n",
    "y_under.value_counts().plot(kind='bar', color=['salmon', 'lightblue'])\n",
    "plt.show()"
   ]
  },
  {
   "cell_type": "code",
   "execution_count": null,
   "metadata": {},
   "outputs": [],
   "source": []
  },
  {
   "cell_type": "markdown",
   "metadata": {},
   "source": [
    "### Splitting Data"
   ]
  },
  {
   "cell_type": "code",
   "execution_count": 38,
   "metadata": {},
   "outputs": [],
   "source": [
    "x_train, x_test, y_train, y_test = train_test_split(x_under, y_under, test_size=0.2, random_state=101)"
   ]
  },
  {
   "cell_type": "markdown",
   "metadata": {
    "id": "sZmSElMGG1Y9"
   },
   "source": [
    "## Modelling"
   ]
  },
  {
   "cell_type": "code",
   "execution_count": 17,
   "metadata": {},
   "outputs": [],
   "source": [
    "def create_model():\n",
    "    input_size = 10\n",
    "    output_size = 2\n",
    "    hidden_layer_size = 50\n",
    "    \n",
    "    model = Sequential()\n",
    "    model.add(Dense(hidden_layer_size, input_shape=(input_size, ), activation='relu'))\n",
    "    model.add(Dense(hidden_layer_size, activation='relu'))\n",
    "    model.add(Dense(output_size, activation='softmax'))\n",
    "    \n",
    "    model.compile(optimizer='adam', loss='sparse_categorical_crossentropy', metrics=['accuracy'])\n",
    "    \n",
    "    # Below commands graphically summarize the deep neural model\n",
    "    # Create a NetworkX graph\n",
    "    G = nx.Graph()\n",
    "\n",
    "    # Add nodes and display the number of nodes for each layer\n",
    "    for i, layer in enumerate(model.layers):\n",
    "        layer_name = layer.name\n",
    "        num_nodes = layer.output_shape[-1]\n",
    "        G.add_node(layer_name, num_nodes=num_nodes)\n",
    "        print(f\"Layer: {layer_name}, Number of Nodes: {num_nodes}\")\n",
    "\n",
    "    # Add edges\n",
    "    for i in range(len(model.layers) - 1):\n",
    "        G.add_edge(model.layers[i].name, model.layers[i+1].name)\n",
    "\n",
    "    # Visualize the graph with node annotations\n",
    "    pos = nx.spring_layout(G)  # Adjust the layout if needed\n",
    "    nx.draw(G, pos, with_labels=False)\n",
    "    node_labels = nx.get_node_attributes(G, 'num_nodes')\n",
    "    nx.draw_networkx_labels(G, pos, labels=node_labels, font_size=8)\n",
    "\n",
    "    plt.show()\n",
    "    \n",
    "    return model"
   ]
  },
  {
   "cell_type": "code",
   "execution_count": 18,
   "metadata": {},
   "outputs": [
    {
     "name": "stdout",
     "output_type": "stream",
     "text": [
      "Layer: dense_24, Number of Nodes: 50\n",
      "Layer: dense_25, Number of Nodes: 50\n",
      "Layer: dense_26, Number of Nodes: 2\n"
     ]
    },
    {
     "data": {
      "image/png": "[encoded data removed]",
      "text/plain": [
       "<Figure size 640x480 with 1 Axes>"
      ]
     },
     "metadata": {},
     "output_type": "display_data"
    }
   ],
   "source": [
    "model = create_model()"
   ]
  },
  {
   "cell_type": "code",
   "execution_count": 60,
   "metadata": {},
   "outputs": [
    {
     "name": "stdout",
     "output_type": "stream",
     "text": [
      "You must install pydot (`pip install pydot`) and install graphviz (see instructions at https://graphviz.gitlab.io/download/) for plot_model/model_to_dot to work.\n",
      "Epoch 1/100\n",
      "33/33 - 0s - loss: 109.8690 - accuracy: 0.5598 - val_loss: 15.0265 - val_accuracy: 0.5363 - 258ms/epoch - 8ms/step\n",
      "Epoch 2/100\n",
      "33/33 - 0s - loss: 3.9843 - accuracy: 0.7016 - val_loss: 1.0480 - val_accuracy: 0.7486 - 38ms/epoch - 1ms/step\n",
      "Epoch 3/100\n",
      "33/33 - 0s - loss: 0.7765 - accuracy: 0.7336 - val_loss: 0.8305 - val_accuracy: 0.6983 - 39ms/epoch - 1ms/step\n",
      "Epoch 4/100\n",
      "33/33 - 0s - loss: 0.6164 - accuracy: 0.7442 - val_loss: 0.5199 - val_accuracy: 0.7151 - 36ms/epoch - 1ms/step\n",
      "Epoch 5/100\n",
      "33/33 - 0s - loss: 0.4922 - accuracy: 0.7507 - val_loss: 0.4827 - val_accuracy: 0.7346 - 36ms/epoch - 1ms/step\n",
      "Epoch 6/100\n",
      "33/33 - 0s - loss: 0.4527 - accuracy: 0.7529 - val_loss: 1.0070 - val_accuracy: 0.7123 - 37ms/epoch - 1ms/step\n",
      "Epoch 7/100\n",
      "33/33 - 0s - loss: 1.2384 - accuracy: 0.7302 - val_loss: 1.0229 - val_accuracy: 0.7402 - 37ms/epoch - 1ms/step\n",
      "Epoch 8/100\n",
      "33/33 - 0s - loss: 0.5204 - accuracy: 0.7622 - val_loss: 0.6663 - val_accuracy: 0.7207 - 37ms/epoch - 1ms/step\n",
      "Epoch 9/100\n",
      "33/33 - 0s - loss: 0.5459 - accuracy: 0.7526 - val_loss: 0.6988 - val_accuracy: 0.7654 - 38ms/epoch - 1ms/step\n",
      "Epoch 10/100\n",
      "33/33 - 0s - loss: 0.5413 - accuracy: 0.7594 - val_loss: 1.2346 - val_accuracy: 0.7207 - 35ms/epoch - 1ms/step\n"
     ]
    }
   ],
   "source": [
    "model = create_model()\n",
    "batch_size = 100\n",
    "max_epochs = 100\n",
    "\n",
    "early_stop = EarlyStopping(monitor='val_loss', patience=5)\n",
    "\n",
    "history = model.fit(x_train.values, y_train.values, verbose=2, validation_split=0.1, \n",
    "                    batch_size=batch_size, epochs=max_epochs, callbacks=[early_stop])"
   ]
  },
  {
   "cell_type": "code",
   "execution_count": 65,
   "metadata": {},
   "outputs": [
    {
     "data": {
      "image/png": "[encoded data removed]",
      "text/plain": [
       "<Figure size 640x480 with 1 Axes>"
      ]
     },
     "metadata": {},
     "output_type": "display_data"
    }
   ],
   "source": [
    "plt.plot(history.history['loss'])\n",
    "plt.plot(history.history['val_loss'])\n",
    "plt.xlabel('Epochs')\n",
    "plt.ylabel('Loss')\n",
    "plt.legend(['Training', 'Validation'], loc='upper right')\n",
    "plt.show()"
   ]
  },
  {
   "cell_type": "markdown",
   "metadata": {},
   "source": [
    "## Testing Model"
   ]
  },
  {
   "cell_type": "code",
   "execution_count": 63,
   "metadata": {},
   "outputs": [
    {
     "name": "stdout",
     "output_type": "stream",
     "text": [
      "28/28 [==============================] - 0s 717us/step - loss: 1.1176 - accuracy: 0.7419\n",
      "\n",
      "Test Loss: 1.12 and Test Accuracy: 74.19%\n"
     ]
    }
   ],
   "source": [
    "test_loss, test_acc = model.evaluate(x_test, y_test)\n",
    "\n",
    "print('\\nTest Loss: {0:.2f} and Test Accuracy: {1:.2f}%'.format(test_loss, test_acc*100))"
   ]
  },
  {
   "cell_type": "code",
   "execution_count": null,
   "metadata": {},
   "outputs": [],
   "source": []
  }
 ],
 "metadata": {
  "colab": {
   "authorship_tag": "ABX9TyPUpikpxs3QarlmRG0rDaEF",
   "provenance": []
  },
  "kernelspec": {
   "display_name": "Python 3 (ipykernel)",
   "language": "python",
   "name": "python3"
  },
  "language_info": {
   "codemirror_mode": {
    "name": "ipython",
    "version": 3
   },
   "file_extension": ".py",
   "mimetype": "text/x-python",
   "name": "python",
   "nbconvert_exporter": "python",
   "pygments_lexer": "ipython3",
   "version": "3.10.6"
  }
 },
 "nbformat": 4,
 "nbformat_minor": 4
}
